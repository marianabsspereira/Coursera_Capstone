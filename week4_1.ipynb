{
 "cells": [
  {
   "cell_type": "markdown",
   "metadata": {},
   "source": [
    "## The Battle of Neighborhoods: Business Proposal | Introduction"
   ]
  },
  {
   "cell_type": "markdown",
   "metadata": {},
   "source": [
    "### Introduction"
   ]
  },
  {
   "cell_type": "markdown",
   "metadata": {},
   "source": [
    "In recent years, the city of Porto has been receiving more and more tourists, which has forced residents to move to areas further away from the city center. Since the growth of tourism in the city happened at an accelerated pace, the necessary infrastructures in the most peripheral areas still do not exist to meet the needs of residents, particularly with regard to supermarkets. Thus, this project aims to find the best area in Porto to build a new supermarket."
   ]
  },
  {
   "cell_type": "markdown",
   "metadata": {},
   "source": [
    "### Business Problem "
   ]
  },
  {
   "cell_type": "markdown",
   "metadata": {},
   "source": [
    "The objective of this capstone project is to analyse and select the best locations in the city of Porto, Portugal to open a new supermarket. Using data science methodology and machine learning techniques like clustering, this project aims to provide solutions to answer the business question: In the city of Porto, Portugal, if a property developer is looking to open a new supermarket, where would you recommend that they open it?"
   ]
  },
  {
   "cell_type": "markdown",
   "metadata": {},
   "source": [
    "## The Battle of Neighborhoods: Data Description"
   ]
  },
  {
   "cell_type": "markdown",
   "metadata": {},
   "source": [
    "### Data"
   ]
  },
  {
   "cell_type": "markdown",
   "metadata": {},
   "source": [
    "To solve the problem, we will need the following data: "
   ]
  },
  {
   "cell_type": "markdown",
   "metadata": {},
   "source": [
    "* List of neighbourhoods in Porto. This defines the scope of this project which is confined to the city of Porto, a city of the country of Portugal in South Europe.\n",
    "\n",
    "* Latitude and longitude coordinates of those neighbourhoods. This is required in order to plot the map and also to get the venue data.\n",
    "\n",
    "* Venue data, particularly data related to supermarkets. We will use this data to perform clustering on the neighbourhoods."
   ]
  },
  {
   "cell_type": "markdown",
   "metadata": {},
   "source": [
    "### Sources of data and methods to extract them"
   ]
  },
  {
   "cell_type": "markdown",
   "metadata": {},
   "source": [
    "This Wikipedia page (https://sites.google.com/site/codigosdasfreguesiasdeportugal/lista) contains a \n",
    "list of neighbourhoods in Porto, with a total of 7 neighbourhoods. We will use web scraping \n",
    "techniques to extract the data from the Wikipedia page, with the help of Python requests and \n",
    "beautifulsoup packages. Then we will get the geographical coordinates of the neighbourhoods using \n",
    "Python Geocoder package which will give us the latitude and longitude coordinates of the \n",
    "neighbourhoods. \n",
    "After that, we will use Foursquare API to get the venue data for those neighbourhoods. Foursquare \n",
    "has one of the largest database of 105+ million places and is used by over 125,000 developers. \n",
    "Foursquare API will provide many categories of the venue data, we are particularly interested in the \n",
    "supermarket category in order to help us to solve the business problem put forward. This is a \n",
    "project that will make use of many data science skills, from web scraping (Wikipedia), working with \n",
    "API (Foursquare), data cleaning, data wrangling, to machine learning (K-means clustering) and map \n",
    "visualization (Folium). "
   ]
  },
  {
   "cell_type": "markdown",
   "metadata": {},
   "source": []
  }
 ],
 "metadata": {
  "kernelspec": {
   "display_name": "Python 3",
   "language": "python",
   "name": "python3"
  },
  "language_info": {
   "codemirror_mode": {
    "name": "ipython",
    "version": 3
   },
   "file_extension": ".py",
   "mimetype": "text/x-python",
   "name": "python",
   "nbconvert_exporter": "python",
   "pygments_lexer": "ipython3",
   "version": "3.8.5"
  }
 },
 "nbformat": 4,
 "nbformat_minor": 4
}
